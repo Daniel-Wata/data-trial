{
 "cells": [
  {
   "cell_type": "markdown",
   "id": "40b9b2f8-1723-4a58-b974-70c19ff17dcc",
   "metadata": {},
   "source": [
    "### Google data EDA\n",
    "\n",
    "From Google we have 2 tables: \n",
    "- company_profiles_google_maps:\n",
    "    - General data about each company\n",
    "    - google_id is the primary key\n",
    "- customer_reviews_google\n",
    "    - Pretty self explanatory, holds reviews from google about each company\n",
    "    - also uses google_id as key\n"
   ]
  },
  {
   "cell_type": "markdown",
   "id": "25bb6606-989d-4172-8632-a00323c95068",
   "metadata": {},
   "source": [
    "## Starting with company_profiles_google_maps"
   ]
  },
  {
   "cell_type": "code",
   "execution_count": 1,
   "id": "57f075dc-c50a-4ac0-9457-51081de3b3ab",
   "metadata": {},
   "outputs": [
    {
     "name": "stderr",
     "output_type": "stream",
     "text": [
      "/tmp/ipykernel_198/1461939918.py:5: UserWarning: pandas only supports SQLAlchemy connectable (engine/connection) or database string URI or sqlite3 DBAPI2 connection. Other DBAPI2 objects are not tested. Please consider using SQLAlchemy.\n",
      "  df_google = pd.read_sql('select * from company_profiles_google_maps',connection)\n"
     ]
    }
   ],
   "source": [
    "import pandas as pd\n",
    "import psycopg2 as pg\n",
    "\n",
    "connection = pg.connect(database='clever',user='clever',host='postgres_clever',port='5432',password='clever')\n",
    "df_google = pd.read_sql('select * from company_profiles_google_maps',connection)"
   ]
  },
  {
   "cell_type": "code",
   "execution_count": 2,
   "id": "9c1d1165-482f-4c06-9351-93ace58668c6",
   "metadata": {},
   "outputs": [
    {
     "name": "stdout",
     "output_type": "stream",
     "text": [
      "<class 'pandas.core.frame.DataFrame'>\n",
      "RangeIndex: 5865 entries, 0 to 5864\n",
      "Data columns (total 53 columns):\n",
      " #   Column                    Non-Null Count  Dtype  \n",
      "---  ------                    --------------  -----  \n",
      " 0   google_id                 5865 non-null   object \n",
      " 1   name                      5865 non-null   object \n",
      " 2   site                      4499 non-null   object \n",
      " 3   subtypes                  5858 non-null   object \n",
      " 4   type                      5858 non-null   object \n",
      " 5   category                  5858 non-null   object \n",
      " 6   phone                     5622 non-null   object \n",
      " 7   full_address              5865 non-null   object \n",
      " 8   borough                   3823 non-null   object \n",
      " 9   street                    5845 non-null   object \n",
      " 10  city                      5865 non-null   object \n",
      " 11  postal_code               5864 non-null   object \n",
      " 12  state                     5865 non-null   object \n",
      " 13  us_state                  5865 non-null   object \n",
      " 14  country                   5828 non-null   object \n",
      " 15  country_code              5828 non-null   object \n",
      " 16  latitude                  5865 non-null   float64\n",
      " 17  longitude                 5865 non-null   float64\n",
      " 18  time_zone                 5828 non-null   object \n",
      " 19  plus_code                 24 non-null     object \n",
      " 20  area_service              5865 non-null   bool   \n",
      " 21  rating                    3687 non-null   float64\n",
      " 22  reviews_link              3654 non-null   object \n",
      " 23  reviews_tags              21 non-null     object \n",
      " 24  photo                     5767 non-null   object \n",
      " 25  photos_count              3076 non-null   float64\n",
      " 26  street_view               5746 non-null   object \n",
      " 27  located_in                10 non-null     object \n",
      " 28  working_hours             4093 non-null   object \n",
      " 29  working_hours_old_format  4093 non-null   object \n",
      " 30  other_hours               45 non-null     object \n",
      " 31  popular_times             0 non-null      object \n",
      " 32  business_status           5865 non-null   object \n",
      " 33  about                     5865 non-null   object \n",
      " 34  range                     4 non-null      object \n",
      " 35  posts                     13 non-null     object \n",
      " 36  logo                      4636 non-null   object \n",
      " 37  description               27 non-null     object \n",
      " 38  typical_time_spent        0 non-null      object \n",
      " 39  verified                  5862 non-null   object \n",
      " 40  owner_id                  4636 non-null   float64\n",
      " 41  owner_title               5862 non-null   object \n",
      " 42  owner_link                4636 non-null   object \n",
      " 43  reservation_links         0 non-null      object \n",
      " 44  booking_appointment_link  882 non-null    object \n",
      " 45  menu_link                 0 non-null      object \n",
      " 46  order_links               882 non-null    object \n",
      " 47  location_link             5865 non-null   object \n",
      " 48  place_id                  5865 non-null   object \n",
      " 49  cid                       5865 non-null   float64\n",
      " 50  reviews_id                3652 non-null   float64\n",
      " 51  located_google_id         10 non-null     object \n",
      " 52  reviews                   3663 non-null   float64\n",
      "dtypes: bool(1), float64(8), object(44)\n",
      "memory usage: 2.3+ MB\n"
     ]
    }
   ],
   "source": [
    "df_google.info()"
   ]
  },
  {
   "cell_type": "markdown",
   "id": "98528e24-c2e9-475c-9c7e-43858907ce8c",
   "metadata": {},
   "source": [
    "### Analysis by location\n",
    "\n",
    "Since the task is focused on making ranks by location, let's start looking at the companies locations."
   ]
  },
  {
   "cell_type": "code",
   "execution_count": 4,
   "id": "fd8861c2-cb61-4bd1-ad09-9e7285511be6",
   "metadata": {},
   "outputs": [
    {
     "data": {
      "text/plain": [
       "country                   state         \n",
       "United States of America  Arizona              1\n",
       "                          FL                  51\n",
       "                          Florida           2993\n",
       "                          GA                   2\n",
       "                          Georgia             72\n",
       "                          Indiana              1\n",
       "                          North Carolina       6\n",
       "                          OR                   1\n",
       "                          Oklahoma            16\n",
       "                          Oregon              40\n",
       "                          Pennsylvania         3\n",
       "                          TX                  11\n",
       "                          Texas             1521\n",
       "                          WA                   5\n",
       "                          Washington        1105\n",
       "dtype: int64"
      ]
     },
     "execution_count": 4,
     "metadata": {},
     "output_type": "execute_result"
    }
   ],
   "source": [
    "#Analyzing number of companies in each country/state and trying to determine if there are companies from multiple countries\n",
    "df_google[['country','state']].groupby(by=['country','state']).size()"
   ]
  },
  {
   "cell_type": "code",
   "execution_count": 6,
   "id": "f58dc415-29d0-4c99-a65b-5654bc7ca508",
   "metadata": {},
   "outputs": [
    {
     "data": {
      "text/plain": [
       "country                   us_state      \n",
       "United States of America  Arizona              1\n",
       "                          Florida           3044\n",
       "                          Georgia             74\n",
       "                          Indiana              1\n",
       "                          North Carolina       6\n",
       "                          Oklahoma            16\n",
       "                          Oregon              41\n",
       "                          Pennsylvania         3\n",
       "                          Texas             1532\n",
       "                          Washington        1110\n",
       "dtype: int64"
      ]
     },
     "execution_count": 6,
     "metadata": {},
     "output_type": "execute_result"
    }
   ],
   "source": [
    "#Analyzing number of companies in each state but with us_state\n",
    "df_google[['country','us_state']].groupby(by=['country','us_state']).size()"
   ]
  },
  {
   "cell_type": "markdown",
   "id": "3148257d-039f-4fa7-8b17-b49db1760ebf",
   "metadata": {},
   "source": [
    "It seems that us_state is already standardized when comparing with state, so I'll probably use it.\n",
    "\n",
    "There are only US companies, so I'll leave out the country for the analysis."
   ]
  },
  {
   "cell_type": "code",
   "execution_count": 8,
   "id": "661b1e60-36b0-44a9-9502-3329da5d4809",
   "metadata": {},
   "outputs": [
    {
     "data": {
      "text/plain": [
       "us_state        city   \n",
       "Florida         Miami      3079\n",
       "Texas           Dallas     1533\n",
       "Washington      Seattle    1111\n",
       "Georgia         Dallas       74\n",
       "Oregon          Dallas       41\n",
       "Oklahoma        Miami        16\n",
       "North Carolina  Dallas        6\n",
       "Pennsylvania    Dallas        3\n",
       "Arizona         Miami         1\n",
       "Indiana         Miami         1\n",
       "dtype: int64"
      ]
     },
     "execution_count": 8,
     "metadata": {},
     "output_type": "execute_result"
    }
   ],
   "source": [
    "#Analyzing state/city\n",
    "df_google[['us_state','city']].groupby(by=['us_state','city']).size().sort_values(ascending=False)"
   ]
  },
  {
   "cell_type": "markdown",
   "id": "52857bb6-325e-4ebc-bec7-55321c042d88",
   "metadata": {},
   "source": [
    "Had to look for some cities in some states thinking it was a mistake, but there actually are other Miamis and other Dallas =)\n",
    "\n",
    "Since this table has a large set of descriptive variables on each company, I'll start looking at the customer_reviews_google table for some metrics"
   ]
  },
  {
   "cell_type": "markdown",
   "id": "91bcff7d-8563-42d2-811a-f9a9527723d1",
   "metadata": {},
   "source": [
    "## customer_reviews_google table"
   ]
  },
  {
   "cell_type": "code",
   "execution_count": 15,
   "id": "bc9b95b8-86ff-470e-89af-0c7d55136e92",
   "metadata": {},
   "outputs": [
    {
     "name": "stderr",
     "output_type": "stream",
     "text": [
      "/tmp/ipykernel_198/3577837379.py:1: UserWarning: pandas only supports SQLAlchemy connectable (engine/connection) or database string URI or sqlite3 DBAPI2 connection. Other DBAPI2 objects are not tested. Please consider using SQLAlchemy.\n",
      "  df_reviews = pd.read_sql('select * from customer_reviews_google',connection)\n"
     ]
    }
   ],
   "source": [
    "df_reviews = pd.read_sql('select * from customer_reviews_google',connection)"
   ]
  },
  {
   "cell_type": "code",
   "execution_count": 16,
   "id": "efb2dab8-f224-42fb-bc03-7349e3c07d98",
   "metadata": {},
   "outputs": [
    {
     "data": {
      "text/html": [
       "<div>\n",
       "<style scoped>\n",
       "    .dataframe tbody tr th:only-of-type {\n",
       "        vertical-align: middle;\n",
       "    }\n",
       "\n",
       "    .dataframe tbody tr th {\n",
       "        vertical-align: top;\n",
       "    }\n",
       "\n",
       "    .dataframe thead th {\n",
       "        text-align: right;\n",
       "    }\n",
       "</style>\n",
       "<table border=\"1\" class=\"dataframe\">\n",
       "  <thead>\n",
       "    <tr style=\"text-align: right;\">\n",
       "      <th></th>\n",
       "      <th>google_id</th>\n",
       "      <th>review_id</th>\n",
       "      <th>name</th>\n",
       "      <th>place_id</th>\n",
       "      <th>location_link</th>\n",
       "      <th>reviews_link</th>\n",
       "      <th>reviews</th>\n",
       "      <th>rating</th>\n",
       "      <th>review_pagination_id</th>\n",
       "      <th>author_link</th>\n",
       "      <th>...</th>\n",
       "      <th>review_photo_ids</th>\n",
       "      <th>owner_answer</th>\n",
       "      <th>owner_answer_timestamp</th>\n",
       "      <th>owner_answer_timestamp_datetime_utc</th>\n",
       "      <th>review_link</th>\n",
       "      <th>review_rating</th>\n",
       "      <th>review_timestamp</th>\n",
       "      <th>review_datetime_utc</th>\n",
       "      <th>review_likes</th>\n",
       "      <th>reviews_id</th>\n",
       "    </tr>\n",
       "  </thead>\n",
       "  <tbody>\n",
       "    <tr>\n",
       "      <th>0</th>\n",
       "      <td>0x864c26c8a3f9fe6f:0x9f5f2eee19038a8b</td>\n",
       "      <td>ChZDSUhNMG9nS0VJQ0FnSUNabHRtNEZREAE</td>\n",
       "      <td>Wildcat Movers - Dallas</td>\n",
       "      <td>ChIJb_75o8gmTIYRi4oDGe4uX58</td>\n",
       "      <td>https://www.google.com/maps/place/Wildcat+Move...</td>\n",
       "      <td>https://search.google.com/local/reviews?placei...</td>\n",
       "      <td>1692.0</td>\n",
       "      <td>4.9</td>\n",
       "      <td>CAESBkVnSUliZw==</td>\n",
       "      <td>https://www.google.com/maps/contrib/1180290970...</td>\n",
       "      <td>...</td>\n",
       "      <td>AF1QipNLYp-Of9ChXtPBvekfgNbVJl1122ft9cERq3OW</td>\n",
       "      <td>None</td>\n",
       "      <td>NaN</td>\n",
       "      <td>None</td>\n",
       "      <td>https://www.google.com/maps/reviews/data=!4m8!...</td>\n",
       "      <td>5.0</td>\n",
       "      <td>1.694300e+09</td>\n",
       "      <td>9/9/2023 22:50</td>\n",
       "      <td>NaN</td>\n",
       "      <td>-6.962790e+18</td>\n",
       "    </tr>\n",
       "    <tr>\n",
       "      <th>1</th>\n",
       "      <td>0x864e99d71a97da87:0xacad6516b3a8297</td>\n",
       "      <td>ChdDSUhNMG9nS0VJQ0FnSUNabHBhZGtBRRAB</td>\n",
       "      <td>AB Moving</td>\n",
       "      <td>ChIJh9qXGteZToYRl4I6a1HWygo</td>\n",
       "      <td>https://www.google.com/maps/place/AB+Moving/@3...</td>\n",
       "      <td>https://search.google.com/local/reviews?placei...</td>\n",
       "      <td>724.0</td>\n",
       "      <td>4.5</td>\n",
       "      <td>CAESB0VnTUl0UUU=</td>\n",
       "      <td>https://www.google.com/maps/contrib/1103082439...</td>\n",
       "      <td>...</td>\n",
       "      <td>None</td>\n",
       "      <td>None</td>\n",
       "      <td>NaN</td>\n",
       "      <td>None</td>\n",
       "      <td>https://www.google.com/maps/reviews/data=!4m8!...</td>\n",
       "      <td>5.0</td>\n",
       "      <td>1.694297e+09</td>\n",
       "      <td>9/9/2023 22:00</td>\n",
       "      <td>NaN</td>\n",
       "      <td>7.776700e+17</td>\n",
       "    </tr>\n",
       "    <tr>\n",
       "      <th>2</th>\n",
       "      <td>0x864c26c8a3f9fe6f:0x9f5f2eee19038a8b</td>\n",
       "      <td>ChZDSUhNMG9nS0VJQ0FnSUNaNXVfUVF3EAE</td>\n",
       "      <td>Wildcat Movers - Dallas</td>\n",
       "      <td>ChIJb_75o8gmTIYRi4oDGe4uX58</td>\n",
       "      <td>https://www.google.com/maps/place/Wildcat+Move...</td>\n",
       "      <td>https://search.google.com/local/reviews?placei...</td>\n",
       "      <td>1692.0</td>\n",
       "      <td>4.9</td>\n",
       "      <td>CAESBkVnSUlidw==</td>\n",
       "      <td>https://www.google.com/maps/contrib/1053763761...</td>\n",
       "      <td>...</td>\n",
       "      <td>AF1QipOIHe2CliGnz_e7zwQ_NcL53Vm9ZVDRVpoxfwGM</td>\n",
       "      <td>None</td>\n",
       "      <td>NaN</td>\n",
       "      <td>None</td>\n",
       "      <td>https://www.google.com/maps/reviews/data=!4m8!...</td>\n",
       "      <td>5.0</td>\n",
       "      <td>1.694292e+09</td>\n",
       "      <td>9/9/2023 20:36</td>\n",
       "      <td>NaN</td>\n",
       "      <td>-6.962790e+18</td>\n",
       "    </tr>\n",
       "    <tr>\n",
       "      <th>3</th>\n",
       "      <td>0x549015ed168dab6d:0x301820ce37c9de5b</td>\n",
       "      <td>ChdDSUhNMG9nS0VJQ0FnSUNaNXRQRnZnRRAB</td>\n",
       "      <td>Pure Moving Company Seattle Movers Local &amp; Lon...</td>\n",
       "      <td>ChIJbauNFu0VkFQRW97JN84gGDA</td>\n",
       "      <td>https://www.google.com/maps/place/Pure+Moving+...</td>\n",
       "      <td>https://search.google.com/local/reviews?placei...</td>\n",
       "      <td>597.0</td>\n",
       "      <td>5.0</td>\n",
       "      <td>CAESB0VnTUl1QUU=</td>\n",
       "      <td>https://www.google.com/maps/contrib/1055784996...</td>\n",
       "      <td>...</td>\n",
       "      <td>AF1QipOv4l2y4IL8lsmGXKrOgtpMFSn5FFl_9ejPX6LG</td>\n",
       "      <td>None</td>\n",
       "      <td>NaN</td>\n",
       "      <td>None</td>\n",
       "      <td>https://www.google.com/maps/reviews/data=!4m8!...</td>\n",
       "      <td>5.0</td>\n",
       "      <td>1.694290e+09</td>\n",
       "      <td>9/9/2023 20:05</td>\n",
       "      <td>NaN</td>\n",
       "      <td>3.465560e+18</td>\n",
       "    </tr>\n",
       "    <tr>\n",
       "      <th>4</th>\n",
       "      <td>0x549015ed168dab6d:0x301820ce37c9de5b</td>\n",
       "      <td>ChZDSUhNMG9nS0VJQ0FnSUNaNXJTaE93EAE</td>\n",
       "      <td>Pure Moving Company Seattle Movers Local &amp; Lon...</td>\n",
       "      <td>ChIJbauNFu0VkFQRW97JN84gGDA</td>\n",
       "      <td>https://www.google.com/maps/place/Pure+Moving+...</td>\n",
       "      <td>https://search.google.com/local/reviews?placei...</td>\n",
       "      <td>597.0</td>\n",
       "      <td>5.0</td>\n",
       "      <td>CAESB0VnTUl1UUU=</td>\n",
       "      <td>https://www.google.com/maps/contrib/1121212537...</td>\n",
       "      <td>...</td>\n",
       "      <td>AF1QipOYup8n4bncleRIojnuHjJ3dCToJQJzyOL2eBWj, ...</td>\n",
       "      <td>None</td>\n",
       "      <td>NaN</td>\n",
       "      <td>None</td>\n",
       "      <td>https://www.google.com/maps/reviews/data=!4m8!...</td>\n",
       "      <td>5.0</td>\n",
       "      <td>1.694283e+09</td>\n",
       "      <td>9/9/2023 18:07</td>\n",
       "      <td>NaN</td>\n",
       "      <td>3.465560e+18</td>\n",
       "    </tr>\n",
       "  </tbody>\n",
       "</table>\n",
       "<p>5 rows × 28 columns</p>\n",
       "</div>"
      ],
      "text/plain": [
       "                               google_id  \\\n",
       "0  0x864c26c8a3f9fe6f:0x9f5f2eee19038a8b   \n",
       "1   0x864e99d71a97da87:0xacad6516b3a8297   \n",
       "2  0x864c26c8a3f9fe6f:0x9f5f2eee19038a8b   \n",
       "3  0x549015ed168dab6d:0x301820ce37c9de5b   \n",
       "4  0x549015ed168dab6d:0x301820ce37c9de5b   \n",
       "\n",
       "                              review_id  \\\n",
       "0   ChZDSUhNMG9nS0VJQ0FnSUNabHRtNEZREAE   \n",
       "1  ChdDSUhNMG9nS0VJQ0FnSUNabHBhZGtBRRAB   \n",
       "2   ChZDSUhNMG9nS0VJQ0FnSUNaNXVfUVF3EAE   \n",
       "3  ChdDSUhNMG9nS0VJQ0FnSUNaNXRQRnZnRRAB   \n",
       "4   ChZDSUhNMG9nS0VJQ0FnSUNaNXJTaE93EAE   \n",
       "\n",
       "                                                name  \\\n",
       "0                            Wildcat Movers - Dallas   \n",
       "1                                          AB Moving   \n",
       "2                            Wildcat Movers - Dallas   \n",
       "3  Pure Moving Company Seattle Movers Local & Lon...   \n",
       "4  Pure Moving Company Seattle Movers Local & Lon...   \n",
       "\n",
       "                      place_id  \\\n",
       "0  ChIJb_75o8gmTIYRi4oDGe4uX58   \n",
       "1  ChIJh9qXGteZToYRl4I6a1HWygo   \n",
       "2  ChIJb_75o8gmTIYRi4oDGe4uX58   \n",
       "3  ChIJbauNFu0VkFQRW97JN84gGDA   \n",
       "4  ChIJbauNFu0VkFQRW97JN84gGDA   \n",
       "\n",
       "                                       location_link  \\\n",
       "0  https://www.google.com/maps/place/Wildcat+Move...   \n",
       "1  https://www.google.com/maps/place/AB+Moving/@3...   \n",
       "2  https://www.google.com/maps/place/Wildcat+Move...   \n",
       "3  https://www.google.com/maps/place/Pure+Moving+...   \n",
       "4  https://www.google.com/maps/place/Pure+Moving+...   \n",
       "\n",
       "                                        reviews_link  reviews  rating  \\\n",
       "0  https://search.google.com/local/reviews?placei...   1692.0     4.9   \n",
       "1  https://search.google.com/local/reviews?placei...    724.0     4.5   \n",
       "2  https://search.google.com/local/reviews?placei...   1692.0     4.9   \n",
       "3  https://search.google.com/local/reviews?placei...    597.0     5.0   \n",
       "4  https://search.google.com/local/reviews?placei...    597.0     5.0   \n",
       "\n",
       "  review_pagination_id                                        author_link  \\\n",
       "0     CAESBkVnSUliZw==  https://www.google.com/maps/contrib/1180290970...   \n",
       "1     CAESB0VnTUl0UUU=  https://www.google.com/maps/contrib/1103082439...   \n",
       "2     CAESBkVnSUlidw==  https://www.google.com/maps/contrib/1053763761...   \n",
       "3     CAESB0VnTUl1QUU=  https://www.google.com/maps/contrib/1055784996...   \n",
       "4     CAESB0VnTUl1UUU=  https://www.google.com/maps/contrib/1121212537...   \n",
       "\n",
       "   ...                                   review_photo_ids  owner_answer  \\\n",
       "0  ...       AF1QipNLYp-Of9ChXtPBvekfgNbVJl1122ft9cERq3OW          None   \n",
       "1  ...                                               None          None   \n",
       "2  ...       AF1QipOIHe2CliGnz_e7zwQ_NcL53Vm9ZVDRVpoxfwGM          None   \n",
       "3  ...       AF1QipOv4l2y4IL8lsmGXKrOgtpMFSn5FFl_9ejPX6LG          None   \n",
       "4  ...  AF1QipOYup8n4bncleRIojnuHjJ3dCToJQJzyOL2eBWj, ...          None   \n",
       "\n",
       "  owner_answer_timestamp  owner_answer_timestamp_datetime_utc  \\\n",
       "0                    NaN                                 None   \n",
       "1                    NaN                                 None   \n",
       "2                    NaN                                 None   \n",
       "3                    NaN                                 None   \n",
       "4                    NaN                                 None   \n",
       "\n",
       "                                         review_link review_rating  \\\n",
       "0  https://www.google.com/maps/reviews/data=!4m8!...           5.0   \n",
       "1  https://www.google.com/maps/reviews/data=!4m8!...           5.0   \n",
       "2  https://www.google.com/maps/reviews/data=!4m8!...           5.0   \n",
       "3  https://www.google.com/maps/reviews/data=!4m8!...           5.0   \n",
       "4  https://www.google.com/maps/reviews/data=!4m8!...           5.0   \n",
       "\n",
       "  review_timestamp review_datetime_utc review_likes    reviews_id  \n",
       "0     1.694300e+09      9/9/2023 22:50          NaN -6.962790e+18  \n",
       "1     1.694297e+09      9/9/2023 22:00          NaN  7.776700e+17  \n",
       "2     1.694292e+09      9/9/2023 20:36          NaN -6.962790e+18  \n",
       "3     1.694290e+09      9/9/2023 20:05          NaN  3.465560e+18  \n",
       "4     1.694283e+09      9/9/2023 18:07          NaN  3.465560e+18  \n",
       "\n",
       "[5 rows x 28 columns]"
      ]
     },
     "execution_count": 16,
     "metadata": {},
     "output_type": "execute_result"
    }
   ],
   "source": [
    "df_reviews.head()"
   ]
  },
  {
   "cell_type": "markdown",
   "id": "a0c66ae0-9dd9-4592-95ce-aee4b05687e4",
   "metadata": {},
   "source": [
    "It seems that each row here is one review but there are also informations about the company's general \"score\""
   ]
  },
  {
   "cell_type": "code",
   "execution_count": 20,
   "id": "2c173b77-5ae9-4b6e-8117-d0f0c888fe56",
   "metadata": {},
   "outputs": [
    {
     "data": {
      "text/plain": [
       "google_id\n",
       "0x864c26c8a3f9fe6f:0x9f5f2eee19038a8b    1692\n",
       "0x5490157655555555:0x673e5a56019f797e    1500\n",
       "0x549041c0f9681f39:0x3727a97e3c3fe947     811\n",
       "0x864e99d71a97da87:0xacad6516b3a8297      724\n",
       "0x864c23dad897733d:0x2de847b08be4e483     688\n",
       "                                         ... \n",
       "0x864c23be034c2355:0xa6a65be391b3478c       2\n",
       "0x88f53813f20268c9:0xac132b235c84c47f       1\n",
       "0x88d9b17e808442cd:0xe6659fb8f7360fb6       1\n",
       "0x549040fa32f122f9:0x5fe0fd50663e967f       1\n",
       "0x864e9d445b6632e3:0x52bbf3d66c431198       1\n",
       "Name: count, Length: 86, dtype: int64"
      ]
     },
     "execution_count": 20,
     "metadata": {},
     "output_type": "execute_result"
    }
   ],
   "source": [
    "df_reviews['google_id'].value_counts()"
   ]
  },
  {
   "cell_type": "code",
   "execution_count": 23,
   "id": "7c76ada1-3245-46d9-a3d4-c68d29b31e6a",
   "metadata": {},
   "outputs": [
    {
     "data": {
      "text/plain": [
       "86"
      ]
     },
     "execution_count": 23,
     "metadata": {},
     "output_type": "execute_result"
    }
   ],
   "source": [
    "df_reviews['google_id'].nunique()"
   ]
  },
  {
   "cell_type": "markdown",
   "id": "0ddee9b3-aef9-452c-ae5e-d86382f41e74",
   "metadata": {},
   "source": [
    "this shows that only a few of the companies actually have reviews"
   ]
  },
  {
   "cell_type": "code",
   "execution_count": 26,
   "id": "31daab39-1816-46c9-a346-4f74594781a7",
   "metadata": {},
   "outputs": [
    {
     "data": {
      "text/plain": [
       "google_id                                1\n",
       "review_id                              688\n",
       "name                                     1\n",
       "place_id                                 1\n",
       "location_link                            1\n",
       "reviews_link                             1\n",
       "reviews                                  1\n",
       "rating                                   1\n",
       "review_pagination_id                   687\n",
       "author_link                            688\n",
       "author_title                           688\n",
       "author_id                              674\n",
       "author_image                           688\n",
       "author_reviews_count                    55\n",
       "review_text                            458\n",
       "review_img_url                           3\n",
       "review_img_urls                          3\n",
       "review_questions                         0\n",
       "review_photo_ids                         3\n",
       "owner_answer                             0\n",
       "owner_answer_timestamp                   0\n",
       "owner_answer_timestamp_datetime_utc      0\n",
       "review_link                            688\n",
       "review_rating                            5\n",
       "review_timestamp                       688\n",
       "review_datetime_utc                    682\n",
       "review_likes                             0\n",
       "reviews_id                               1\n",
       "dtype: int64"
      ]
     },
     "execution_count": 26,
     "metadata": {},
     "output_type": "execute_result"
    }
   ],
   "source": [
    "df_reviews[df_reviews['google_id'] == '0x864c23dad897733d:0x2de847b08be4e483'].nunique()"
   ]
  },
  {
   "cell_type": "markdown",
   "id": "7e8a6b8e-9caa-4f75-98ad-00d119b02b01",
   "metadata": {},
   "source": [
    "From this it seems that the rating, reviews and company data repeats for each singular evaluation.\n",
    "\n",
    "Makes sense to make a dataset trying to get a 1:1 relation between companies and reviews tables for analysis and also see how many of the companies listed actually have reviews"
   ]
  },
  {
   "cell_type": "code",
   "execution_count": 29,
   "id": "f4b6f0f8-4be7-46e1-be3b-ef5f8ab4bed2",
   "metadata": {},
   "outputs": [],
   "source": [
    "#Looking for the companies with reviews that are also in the companies tables\n",
    "\n",
    "#I'm using aggregation here because it makes safe to assume that there will be only one row for each company\n",
    "df_aggregated_reviews = df_reviews[['google_id','reviews','rating']].groupby(by='google_id').agg({\n",
    "    'reviews': 'max',   # Take the maximum value for 'reviews'\n",
    "    'rating': 'mean'    # Take the mean for 'rating'\n",
    "})"
   ]
  },
  {
   "cell_type": "code",
   "execution_count": 31,
   "id": "86c737d7-297e-46b5-a7ed-b9a9855a5ea5",
   "metadata": {},
   "outputs": [],
   "source": [
    "df_aggregated_reviews.reset_index(inplace=True)"
   ]
  },
  {
   "cell_type": "code",
   "execution_count": 32,
   "id": "765b8743-8f41-49e3-92f7-0dc764a44496",
   "metadata": {},
   "outputs": [
    {
     "data": {
      "text/html": [
       "<div>\n",
       "<style scoped>\n",
       "    .dataframe tbody tr th:only-of-type {\n",
       "        vertical-align: middle;\n",
       "    }\n",
       "\n",
       "    .dataframe tbody tr th {\n",
       "        vertical-align: top;\n",
       "    }\n",
       "\n",
       "    .dataframe thead th {\n",
       "        text-align: right;\n",
       "    }\n",
       "</style>\n",
       "<table border=\"1\" class=\"dataframe\">\n",
       "  <thead>\n",
       "    <tr style=\"text-align: right;\">\n",
       "      <th></th>\n",
       "      <th>google_id</th>\n",
       "      <th>reviews</th>\n",
       "      <th>rating</th>\n",
       "    </tr>\n",
       "  </thead>\n",
       "  <tbody>\n",
       "    <tr>\n",
       "      <th>0</th>\n",
       "      <td>0x54900fa7f798bdd1:0x778e5ec2841c59e8</td>\n",
       "      <td>31.0</td>\n",
       "      <td>4.7</td>\n",
       "    </tr>\n",
       "    <tr>\n",
       "      <th>1</th>\n",
       "      <td>0x5490117e221f6117:0x9e5eea3090226dc5</td>\n",
       "      <td>43.0</td>\n",
       "      <td>5.0</td>\n",
       "    </tr>\n",
       "    <tr>\n",
       "      <th>2</th>\n",
       "      <td>0x549013daa18732b5:0xed1239c5aef8a340</td>\n",
       "      <td>39.0</td>\n",
       "      <td>5.0</td>\n",
       "    </tr>\n",
       "    <tr>\n",
       "      <th>3</th>\n",
       "      <td>0x549013ff5c745f65:0x849cdc83bcbe9694</td>\n",
       "      <td>100.0</td>\n",
       "      <td>4.8</td>\n",
       "    </tr>\n",
       "    <tr>\n",
       "      <th>4</th>\n",
       "      <td>0x549013ff84f9de59:0x4e1ff815e97cc509</td>\n",
       "      <td>8.0</td>\n",
       "      <td>3.5</td>\n",
       "    </tr>\n",
       "    <tr>\n",
       "      <th>...</th>\n",
       "      <td>...</td>\n",
       "      <td>...</td>\n",
       "      <td>...</td>\n",
       "    </tr>\n",
       "    <tr>\n",
       "      <th>81</th>\n",
       "      <td>0x88d9c1f6c4b56083:0x34e94d8a2b0ebfc9</td>\n",
       "      <td>7.0</td>\n",
       "      <td>5.0</td>\n",
       "    </tr>\n",
       "    <tr>\n",
       "      <th>82</th>\n",
       "      <td>0x88d9c3ff0a978399:0xc7d67b9452411c0</td>\n",
       "      <td>220.0</td>\n",
       "      <td>4.9</td>\n",
       "    </tr>\n",
       "    <tr>\n",
       "      <th>83</th>\n",
       "      <td>0x88d9c75d57aa65e5:0x7741d2b54e949724</td>\n",
       "      <td>83.0</td>\n",
       "      <td>4.9</td>\n",
       "    </tr>\n",
       "    <tr>\n",
       "      <th>84</th>\n",
       "      <td>0x88d9cbd3295fd601:0xb54a67564654b9a4</td>\n",
       "      <td>37.0</td>\n",
       "      <td>5.0</td>\n",
       "    </tr>\n",
       "    <tr>\n",
       "      <th>85</th>\n",
       "      <td>0x88f53813f20268c9:0xac132b235c84c47f</td>\n",
       "      <td>1.0</td>\n",
       "      <td>5.0</td>\n",
       "    </tr>\n",
       "  </tbody>\n",
       "</table>\n",
       "<p>86 rows × 3 columns</p>\n",
       "</div>"
      ],
      "text/plain": [
       "                                google_id  reviews  rating\n",
       "0   0x54900fa7f798bdd1:0x778e5ec2841c59e8     31.0     4.7\n",
       "1   0x5490117e221f6117:0x9e5eea3090226dc5     43.0     5.0\n",
       "2   0x549013daa18732b5:0xed1239c5aef8a340     39.0     5.0\n",
       "3   0x549013ff5c745f65:0x849cdc83bcbe9694    100.0     4.8\n",
       "4   0x549013ff84f9de59:0x4e1ff815e97cc509      8.0     3.5\n",
       "..                                    ...      ...     ...\n",
       "81  0x88d9c1f6c4b56083:0x34e94d8a2b0ebfc9      7.0     5.0\n",
       "82   0x88d9c3ff0a978399:0xc7d67b9452411c0    220.0     4.9\n",
       "83  0x88d9c75d57aa65e5:0x7741d2b54e949724     83.0     4.9\n",
       "84  0x88d9cbd3295fd601:0xb54a67564654b9a4     37.0     5.0\n",
       "85  0x88f53813f20268c9:0xac132b235c84c47f      1.0     5.0\n",
       "\n",
       "[86 rows x 3 columns]"
      ]
     },
     "execution_count": 32,
     "metadata": {},
     "output_type": "execute_result"
    }
   ],
   "source": [
    "df_aggregated_reviews"
   ]
  },
  {
   "cell_type": "code",
   "execution_count": 33,
   "id": "38e896ae-d798-437f-862b-e05741bb1e52",
   "metadata": {},
   "outputs": [],
   "source": [
    "#Now let's see how many are found on the companies dataset\n",
    "df_merged = pd.merge(left=df_aggregated_reviews, right=df_google, on='google_id', how='inner')"
   ]
  },
  {
   "cell_type": "code",
   "execution_count": 36,
   "id": "ee4b22c0-b7fb-4b36-81d3-5e9e8242c164",
   "metadata": {},
   "outputs": [
    {
     "data": {
      "text/plain": [
       "(86, 55)"
      ]
     },
     "execution_count": 36,
     "metadata": {},
     "output_type": "execute_result"
    }
   ],
   "source": [
    "df_merged.shape"
   ]
  },
  {
   "cell_type": "markdown",
   "id": "f4fa791f-0dc7-4861-bb61-2e9ea348e2d0",
   "metadata": {},
   "source": [
    "86 rows means that all reviewed companies are also in the companies dataframe"
   ]
  }
 ],
 "metadata": {
  "kernelspec": {
   "display_name": "Python 3 (ipykernel)",
   "language": "python",
   "name": "python3"
  },
  "language_info": {
   "codemirror_mode": {
    "name": "ipython",
    "version": 3
   },
   "file_extension": ".py",
   "mimetype": "text/x-python",
   "name": "python",
   "nbconvert_exporter": "python",
   "pygments_lexer": "ipython3",
   "version": "3.11.6"
  }
 },
 "nbformat": 4,
 "nbformat_minor": 5
}
