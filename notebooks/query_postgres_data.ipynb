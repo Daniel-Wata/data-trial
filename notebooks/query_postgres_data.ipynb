{
 "cells": [
  {
   "cell_type": "code",
   "execution_count": 2,
   "metadata": {},
   "outputs": [
    {
     "name": "stdout",
     "output_type": "stream",
     "text": [
      "Requirement already satisfied: pandas in /opt/conda/lib/python3.11/site-packages (2.0.3)\n",
      "Collecting psycopg2-binary\n",
      "  Downloading psycopg2_binary-2.9.9-cp311-cp311-manylinux_2_17_x86_64.manylinux2014_x86_64.whl.metadata (4.4 kB)\n",
      "Requirement already satisfied: python-dateutil>=2.8.2 in /opt/conda/lib/python3.11/site-packages (from pandas) (2.8.2)\n",
      "Requirement already satisfied: pytz>=2020.1 in /opt/conda/lib/python3.11/site-packages (from pandas) (2023.3.post1)\n",
      "Requirement already satisfied: tzdata>=2022.1 in /opt/conda/lib/python3.11/site-packages (from pandas) (2023.3)\n",
      "Requirement already satisfied: numpy>=1.21.0 in /opt/conda/lib/python3.11/site-packages (from pandas) (1.24.4)\n",
      "Requirement already satisfied: six>=1.5 in /opt/conda/lib/python3.11/site-packages (from python-dateutil>=2.8.2->pandas) (1.16.0)\n",
      "Downloading psycopg2_binary-2.9.9-cp311-cp311-manylinux_2_17_x86_64.manylinux2014_x86_64.whl (3.0 MB)\n",
      "\u001b[2K   \u001b[90m━━━━━━━━━━━━━━━━━━━━━━━━━━━━━━━━━━━━━━━━\u001b[0m \u001b[32m3.0/3.0 MB\u001b[0m \u001b[31m14.4 MB/s\u001b[0m eta \u001b[36m0:00:00\u001b[0ma \u001b[36m0:00:01\u001b[0m\n",
      "\u001b[?25hInstalling collected packages: psycopg2-binary\n",
      "Successfully installed psycopg2-binary-2.9.9\n",
      "Note: you may need to restart the kernel to use updated packages.\n"
     ]
    }
   ],
   "source": [
    "pip install pandas psycopg2-binary"
   ]
  },
  {
   "cell_type": "code",
   "execution_count": 1,
   "metadata": {},
   "outputs": [
    {
     "name": "stdout",
     "output_type": "stream",
     "text": [
      "Requirement already satisfied: pandas in /opt/conda/lib/python3.11/site-packages (2.0.3)\n",
      "Collecting pandas\n",
      "  Downloading pandas-2.2.3-cp311-cp311-manylinux_2_17_x86_64.manylinux2014_x86_64.whl.metadata (89 kB)\n",
      "\u001b[2K     \u001b[90m━━━━━━━━━━━━━━━━━━━━━━━━━━━━━━━━━━━━━━━━\u001b[0m \u001b[32m89.9/89.9 kB\u001b[0m \u001b[31m5.4 MB/s\u001b[0m eta \u001b[36m0:00:00\u001b[0m\n",
      "\u001b[?25hRequirement already satisfied: numpy>=1.23.2 in /opt/conda/lib/python3.11/site-packages (from pandas) (1.24.4)\n",
      "Requirement already satisfied: python-dateutil>=2.8.2 in /opt/conda/lib/python3.11/site-packages (from pandas) (2.8.2)\n",
      "Requirement already satisfied: pytz>=2020.1 in /opt/conda/lib/python3.11/site-packages (from pandas) (2023.3.post1)\n",
      "Requirement already satisfied: tzdata>=2022.7 in /opt/conda/lib/python3.11/site-packages (from pandas) (2023.3)\n",
      "Requirement already satisfied: six>=1.5 in /opt/conda/lib/python3.11/site-packages (from python-dateutil>=2.8.2->pandas) (1.16.0)\n",
      "Downloading pandas-2.2.3-cp311-cp311-manylinux_2_17_x86_64.manylinux2014_x86_64.whl (13.1 MB)\n",
      "\u001b[2K   \u001b[90m━━━━━━━━━━━━━━━━━━━━━━━━━━━━━━━━━━━━━━━━\u001b[0m \u001b[32m13.1/13.1 MB\u001b[0m \u001b[31m27.1 MB/s\u001b[0m eta \u001b[36m0:00:00\u001b[0m00:01\u001b[0m00:01\u001b[0m\n",
      "\u001b[?25hInstalling collected packages: pandas\n",
      "  Attempting uninstall: pandas\n",
      "    Found existing installation: pandas 2.0.3\n",
      "    Uninstalling pandas-2.0.3:\n",
      "      Successfully uninstalled pandas-2.0.3\n",
      "Successfully installed pandas-2.2.3\n"
     ]
    }
   ],
   "source": [
    "!pip install --upgrade pandas"
   ]
  },
  {
   "cell_type": "code",
   "execution_count": 1,
   "metadata": {},
   "outputs": [
    {
     "name": "stderr",
     "output_type": "stream",
     "text": [
      "/tmp/ipykernel_4815/2630579525.py:6: UserWarning: pandas only supports SQLAlchemy connectable (engine/connection) or database string URI or sqlite3 DBAPI2 connection. Other DBAPI2 objects are not tested. Please consider using SQLAlchemy.\n",
      "  df_fmcsa = pd.read_sql('select usdot_num,company_name,registered_address,phone_number from public.fmcsa_company_snapshot', connection)\n",
      "/tmp/ipykernel_4815/2630579525.py:8: UserWarning: pandas only supports SQLAlchemy connectable (engine/connection) or database string URI or sqlite3 DBAPI2 connection. Other DBAPI2 objects are not tested. Please consider using SQLAlchemy.\n",
      "  df_google = pd.read_sql('select google_id,name, full_address, phone from company_profiles_google_maps',connection)\n"
     ]
    }
   ],
   "source": [
    "import pandas as pd\n",
    "import psycopg2 as pg\n",
    "\n",
    "connection = pg.connect(database='clever',user='clever',host='postgres_clever',port='5432',password='clever')\n",
    "\n",
    "df_fmcsa = pd.read_sql('select usdot_num,company_name,registered_address,phone_number from public.fmcsa_company_snapshot', connection)\n",
    "\n",
    "df_google = pd.read_sql('select google_id,name, full_address, phone from company_profiles_google_maps',connection)\n"
   ]
  },
  {
   "cell_type": "code",
   "execution_count": 8,
   "metadata": {},
   "outputs": [
    {
     "data": {
      "text/html": [
       "<div>\n",
       "<style scoped>\n",
       "    .dataframe tbody tr th:only-of-type {\n",
       "        vertical-align: middle;\n",
       "    }\n",
       "\n",
       "    .dataframe tbody tr th {\n",
       "        vertical-align: top;\n",
       "    }\n",
       "\n",
       "    .dataframe thead th {\n",
       "        text-align: right;\n",
       "    }\n",
       "</style>\n",
       "<table border=\"1\" class=\"dataframe\">\n",
       "  <thead>\n",
       "    <tr style=\"text-align: right;\">\n",
       "      <th></th>\n",
       "      <th>usdot_num</th>\n",
       "      <th>company_name</th>\n",
       "      <th>registered_address</th>\n",
       "      <th>phone_number</th>\n",
       "    </tr>\n",
       "  </thead>\n",
       "  <tbody>\n",
       "    <tr>\n",
       "      <th>0</th>\n",
       "      <td>3975699</td>\n",
       "      <td>GOING GOLDENN TRANSPORTATION LLC</td>\n",
       "      <td>4420 MARK TRAIL WAY\\r\\nDALLAS, TX 75232-1047</td>\n",
       "      <td>(214)709-8984</td>\n",
       "    </tr>\n",
       "    <tr>\n",
       "      <th>1</th>\n",
       "      <td>4040772</td>\n",
       "      <td>KINECT TRANSPORT LLC</td>\n",
       "      <td>14155 DALLAS PKWY APT 1543\\r\\nDALLAS, TX 75254</td>\n",
       "      <td>(501)358-2015</td>\n",
       "    </tr>\n",
       "    <tr>\n",
       "      <th>2</th>\n",
       "      <td>4059470</td>\n",
       "      <td>GULED JAMA</td>\n",
       "      <td>7509 24TH AVE SW APT 3\\r\\nSEATTLE, WA 98106</td>\n",
       "      <td>(206)335-8042</td>\n",
       "    </tr>\n",
       "    <tr>\n",
       "      <th>3</th>\n",
       "      <td>4054636</td>\n",
       "      <td>E&amp;M EXPRESS LOGISTICS LLC</td>\n",
       "      <td>750 N SAINT PAUL ST STE 250\\r\\nDALLAS, TX 75201</td>\n",
       "      <td>(469)396-1815</td>\n",
       "    </tr>\n",
       "    <tr>\n",
       "      <th>4</th>\n",
       "      <td>4054993</td>\n",
       "      <td>RELIASAFE DELIVERIES</td>\n",
       "      <td>9511 SW 81ST ST\\r\\nMIAMI, FL 33173</td>\n",
       "      <td>(305)582-6901</td>\n",
       "    </tr>\n",
       "  </tbody>\n",
       "</table>\n",
       "</div>"
      ],
      "text/plain": [
       "   usdot_num                      company_name  \\\n",
       "0    3975699  GOING GOLDENN TRANSPORTATION LLC   \n",
       "1    4040772              KINECT TRANSPORT LLC   \n",
       "2    4059470                        GULED JAMA   \n",
       "3    4054636         E&M EXPRESS LOGISTICS LLC   \n",
       "4    4054993              RELIASAFE DELIVERIES   \n",
       "\n",
       "                                registered_address   phone_number  \n",
       "0     4420 MARK TRAIL WAY\\r\\nDALLAS, TX 75232-1047  (214)709-8984  \n",
       "1   14155 DALLAS PKWY APT 1543\\r\\nDALLAS, TX 75254  (501)358-2015  \n",
       "2      7509 24TH AVE SW APT 3\\r\\nSEATTLE, WA 98106  (206)335-8042  \n",
       "3  750 N SAINT PAUL ST STE 250\\r\\nDALLAS, TX 75201  (469)396-1815  \n",
       "4               9511 SW 81ST ST\\r\\nMIAMI, FL 33173  (305)582-6901  "
      ]
     },
     "execution_count": 8,
     "metadata": {},
     "output_type": "execute_result"
    }
   ],
   "source": [
    "df_fmcsa.head()"
   ]
  },
  {
   "cell_type": "code",
   "execution_count": 9,
   "metadata": {},
   "outputs": [
    {
     "data": {
      "text/html": [
       "<div>\n",
       "<style scoped>\n",
       "    .dataframe tbody tr th:only-of-type {\n",
       "        vertical-align: middle;\n",
       "    }\n",
       "\n",
       "    .dataframe tbody tr th {\n",
       "        vertical-align: top;\n",
       "    }\n",
       "\n",
       "    .dataframe thead th {\n",
       "        text-align: right;\n",
       "    }\n",
       "</style>\n",
       "<table border=\"1\" class=\"dataframe\">\n",
       "  <thead>\n",
       "    <tr style=\"text-align: right;\">\n",
       "      <th></th>\n",
       "      <th>google_id</th>\n",
       "      <th>name</th>\n",
       "      <th>full_address</th>\n",
       "      <th>phone</th>\n",
       "    </tr>\n",
       "  </thead>\n",
       "  <tbody>\n",
       "    <tr>\n",
       "      <th>0</th>\n",
       "      <td>0x111f53bf849f031:0xb43eff4f62923c5d</td>\n",
       "      <td>Nicolas Boucher P.A</td>\n",
       "      <td>901 S Miami Ave #215, Miami, FL 33130</td>\n",
       "      <td>+1 305-788-8035</td>\n",
       "    </tr>\n",
       "    <tr>\n",
       "      <th>1</th>\n",
       "      <td>0x14e179155727173b:0x2c342e5f13a9b2d</td>\n",
       "      <td>New Hope Realty</td>\n",
       "      <td>110 Evans Mill Dr STE 102, Dallas, GA 30157</td>\n",
       "      <td>+1 770-635-7560</td>\n",
       "    </tr>\n",
       "    <tr>\n",
       "      <th>2</th>\n",
       "      <td>0x14e4b9f6c46524a9:0x202749ab2be6bfe3</td>\n",
       "      <td>Harvey Mclean &amp; Associates</td>\n",
       "      <td>4922 Abbott Ave, Dallas, TX 75219</td>\n",
       "      <td>+1 214-219-4555</td>\n",
       "    </tr>\n",
       "    <tr>\n",
       "      <th>3</th>\n",
       "      <td>0x1803389f251373:0x26e9e6cc7312627c</td>\n",
       "      <td>Yanet Mino Realtor</td>\n",
       "      <td>7281 Coral Wy, Miami, FL 33155</td>\n",
       "      <td>+1 305-570-8861</td>\n",
       "    </tr>\n",
       "    <tr>\n",
       "      <th>4</th>\n",
       "      <td>0x18751cf7cb7e9a5:0xad85fc0dfe9ff490</td>\n",
       "      <td>Lunabase Travelstays &amp; Property Management</td>\n",
       "      <td>1600 NE 1st Ave Unit 3419, Miami, FL 33132</td>\n",
       "      <td>+1 305-204-8717</td>\n",
       "    </tr>\n",
       "  </tbody>\n",
       "</table>\n",
       "</div>"
      ],
      "text/plain": [
       "                               google_id  \\\n",
       "0   0x111f53bf849f031:0xb43eff4f62923c5d   \n",
       "1   0x14e179155727173b:0x2c342e5f13a9b2d   \n",
       "2  0x14e4b9f6c46524a9:0x202749ab2be6bfe3   \n",
       "3    0x1803389f251373:0x26e9e6cc7312627c   \n",
       "4   0x18751cf7cb7e9a5:0xad85fc0dfe9ff490   \n",
       "\n",
       "                                         name  \\\n",
       "0                         Nicolas Boucher P.A   \n",
       "1                             New Hope Realty   \n",
       "2                  Harvey Mclean & Associates   \n",
       "3                          Yanet Mino Realtor   \n",
       "4  Lunabase Travelstays & Property Management   \n",
       "\n",
       "                                  full_address            phone  \n",
       "0        901 S Miami Ave #215, Miami, FL 33130  +1 305-788-8035  \n",
       "1  110 Evans Mill Dr STE 102, Dallas, GA 30157  +1 770-635-7560  \n",
       "2            4922 Abbott Ave, Dallas, TX 75219  +1 214-219-4555  \n",
       "3               7281 Coral Wy, Miami, FL 33155  +1 305-570-8861  \n",
       "4   1600 NE 1st Ave Unit 3419, Miami, FL 33132  +1 305-204-8717  "
      ]
     },
     "execution_count": 9,
     "metadata": {},
     "output_type": "execute_result"
    }
   ],
   "source": [
    "df_google.head()"
   ]
  },
  {
   "cell_type": "code",
   "execution_count": 2,
   "metadata": {},
   "outputs": [],
   "source": [
    "import re\n",
    "\n",
    "def clean_phone_number(phone):\n",
    "    if not phone:\n",
    "        return \"\"\n",
    "    # Remove the +1 prefix if present\n",
    "    phone = re.sub(r'^\\+1\\s*', '', phone)\n",
    "    # Remove all non-numeric characters\n",
    "    phone = re.sub(r'\\D', '', phone)\n",
    "    return phone"
   ]
  },
  {
   "cell_type": "code",
   "execution_count": 3,
   "metadata": {},
   "outputs": [],
   "source": [
    "df_fmcsa['treated_phone'] = df_fmcsa['phone_number'].apply(clean_phone_number)\n",
    "df_google['treated_phone'] = df_google['phone'].apply(clean_phone_number)"
   ]
  },
  {
   "cell_type": "code",
   "execution_count": 4,
   "metadata": {},
   "outputs": [],
   "source": [
    "df_fmcsa=df_fmcsa.fillna(\"\")\n",
    "df_google=df_google.fillna(\"\")"
   ]
  },
  {
   "cell_type": "code",
   "execution_count": 5,
   "metadata": {},
   "outputs": [],
   "source": [
    "df_fmcsa['fuzzy_column'] = df_fmcsa['treated_phone'] + ' ' + df_fmcsa['registered_address'] + ' ' + df_fmcsa['company_name']\n",
    "df_google['fuzzy_column'] = df_google['treated_phone'] + ' ' + df_google['full_address'] + ' ' + df_google['name']"
   ]
  },
  {
   "cell_type": "code",
   "execution_count": 6,
   "metadata": {},
   "outputs": [],
   "source": [
    "df_google['fuzzy_column'] = df_google['fuzzy_column'].str.upper().replace(r'[\\r\\t]', ' ', regex=True)\n",
    "df_fmcsa['fuzzy_column'] = df_fmcsa['fuzzy_column'].str.upper().replace(r'[\\r\\t]', ' ', regex=True)"
   ]
  },
  {
   "cell_type": "code",
   "execution_count": 7,
   "metadata": {},
   "outputs": [
    {
     "data": {
      "text/html": [
       "<div>\n",
       "<style scoped>\n",
       "    .dataframe tbody tr th:only-of-type {\n",
       "        vertical-align: middle;\n",
       "    }\n",
       "\n",
       "    .dataframe tbody tr th {\n",
       "        vertical-align: top;\n",
       "    }\n",
       "\n",
       "    .dataframe thead th {\n",
       "        text-align: right;\n",
       "    }\n",
       "</style>\n",
       "<table border=\"1\" class=\"dataframe\">\n",
       "  <thead>\n",
       "    <tr style=\"text-align: right;\">\n",
       "      <th></th>\n",
       "      <th>usdot_num</th>\n",
       "      <th>company_name</th>\n",
       "      <th>registered_address</th>\n",
       "      <th>phone_number</th>\n",
       "      <th>treated_phone</th>\n",
       "      <th>fuzzy_column</th>\n",
       "    </tr>\n",
       "  </thead>\n",
       "  <tbody>\n",
       "  </tbody>\n",
       "</table>\n",
       "</div>"
      ],
      "text/plain": [
       "Empty DataFrame\n",
       "Columns: [usdot_num, company_name, registered_address, phone_number, treated_phone, fuzzy_column]\n",
       "Index: []"
      ]
     },
     "execution_count": 7,
     "metadata": {},
     "output_type": "execute_result"
    }
   ],
   "source": [
    "df_fmcsa[df_fmcsa['fuzzy_column'].isna()]"
   ]
  },
  {
   "cell_type": "code",
   "execution_count": 63,
   "metadata": {},
   "outputs": [],
   "source": [
    "merged_df = pd.merge(df_fmcsa[~df_fmcsa['phone_number'].isna()], df_google[~df_google['phone'].isna()], on='treated_phone', how='inner')"
   ]
  },
  {
   "cell_type": "code",
   "execution_count": 64,
   "metadata": {},
   "outputs": [
    {
     "name": "stdout",
     "output_type": "stream",
     "text": [
      "<class 'pandas.core.frame.DataFrame'>\n",
      "RangeIndex: 2191 entries, 0 to 2190\n",
      "Data columns (total 11 columns):\n",
      " #   Column              Non-Null Count  Dtype \n",
      "---  ------              --------------  ----- \n",
      " 0   usdot_num           2191 non-null   int64 \n",
      " 1   company_name        2191 non-null   object\n",
      " 2   registered_address  2191 non-null   object\n",
      " 3   phone_number        2191 non-null   object\n",
      " 4   treated_phone       2191 non-null   object\n",
      " 5   fuzzy_column_x      2191 non-null   object\n",
      " 6   google_id           2191 non-null   object\n",
      " 7   name                2191 non-null   object\n",
      " 8   full_address        2191 non-null   object\n",
      " 9   phone               2191 non-null   object\n",
      " 10  fuzzy_column_y      2191 non-null   object\n",
      "dtypes: int64(1), object(10)\n",
      "memory usage: 188.4+ KB\n"
     ]
    }
   ],
   "source": [
    "merged_df.info()"
   ]
  },
  {
   "cell_type": "code",
   "execution_count": 43,
   "metadata": {},
   "outputs": [
    {
     "name": "stdout",
     "output_type": "stream",
     "text": [
      "Collecting fuzzywuzzy[speedup]\n",
      "  Downloading fuzzywuzzy-0.18.0-py2.py3-none-any.whl.metadata (4.9 kB)\n",
      "Collecting python-levenshtein>=0.12 (from fuzzywuzzy[speedup])\n",
      "  Downloading python_Levenshtein-0.26.0-py3-none-any.whl.metadata (3.7 kB)\n",
      "Collecting Levenshtein==0.26.0 (from python-levenshtein>=0.12->fuzzywuzzy[speedup])\n",
      "  Downloading levenshtein-0.26.0-cp311-cp311-manylinux_2_17_x86_64.manylinux2014_x86_64.whl.metadata (3.2 kB)\n",
      "Collecting rapidfuzz<4.0.0,>=3.9.0 (from Levenshtein==0.26.0->python-levenshtein>=0.12->fuzzywuzzy[speedup])\n",
      "  Downloading rapidfuzz-3.10.0-cp311-cp311-manylinux_2_17_x86_64.manylinux2014_x86_64.whl.metadata (11 kB)\n",
      "Downloading python_Levenshtein-0.26.0-py3-none-any.whl (9.4 kB)\n",
      "Downloading levenshtein-0.26.0-cp311-cp311-manylinux_2_17_x86_64.manylinux2014_x86_64.whl (162 kB)\n",
      "\u001b[2K   \u001b[90m━━━━━━━━━━━━━━━━━━━━━━━━━━━━━━━━━━━━━━━━\u001b[0m \u001b[32m162.7/162.7 kB\u001b[0m \u001b[31m6.6 MB/s\u001b[0m eta \u001b[36m0:00:00\u001b[0m\n",
      "\u001b[?25hDownloading fuzzywuzzy-0.18.0-py2.py3-none-any.whl (18 kB)\n",
      "Downloading rapidfuzz-3.10.0-cp311-cp311-manylinux_2_17_x86_64.manylinux2014_x86_64.whl (3.1 MB)\n",
      "\u001b[2K   \u001b[90m━━━━━━━━━━━━━━━━━━━━━━━━━━━━━━━━━━━━━━━━\u001b[0m \u001b[32m3.1/3.1 MB\u001b[0m \u001b[31m14.2 MB/s\u001b[0m eta \u001b[36m0:00:00\u001b[0m00:01\u001b[0m00:01\u001b[0m\n",
      "\u001b[?25hInstalling collected packages: fuzzywuzzy, rapidfuzz, Levenshtein, python-levenshtein\n",
      "Successfully installed Levenshtein-0.26.0 fuzzywuzzy-0.18.0 python-levenshtein-0.26.0 rapidfuzz-3.10.0\n",
      "Note: you may need to restart the kernel to use updated packages.\n"
     ]
    }
   ],
   "source": [
    "pip install fuzzywuzzy[speedup]"
   ]
  },
  {
   "cell_type": "code",
   "execution_count": 8,
   "metadata": {},
   "outputs": [],
   "source": [
    "import pandas as pd\n",
    "from fuzzywuzzy import fuzz\n",
    "from fuzzywuzzy import process\n",
    "\n",
    "# Function to perform fuzzy matching based on combined_info\n",
    "def fuzzy_merge(df_left, df_right, key_left, key_right, threshold=70, limit=1):\n",
    "    \"\"\"\n",
    "    Fuzzy match and merge two dataframes based on a specific key column from both.\n",
    "    \n",
    "    df_left: Left DataFrame\n",
    "    df_right: Right DataFrame\n",
    "    key_left: Key column in left DataFrame to match on\n",
    "    key_right: Key column in right DataFrame to match on\n",
    "    threshold: Minimum matching score (0-100)\n",
    "    limit: Maximum number of matches to return\n",
    "    \n",
    "    Returns: Merged DataFrame\n",
    "    \"\"\"\n",
    "    s = df_right[key_right].tolist()\n",
    "    \n",
    "    matches = []\n",
    "    for idx, row in df_left.iterrows():\n",
    "        match = process.extractOne(row[key_left], s, scorer=fuzz.token_sort_ratio)\n",
    "        \n",
    "        if match and match[1] >= threshold:\n",
    "            matched_row = df_right[df_right[key_right] == match[0]].iloc[0]\n",
    "            match_data = {\n",
    "                'left_combined_info': row[key_left],\n",
    "                'right_combined_info': match[0],\n",
    "                'match_score': match[1]\n",
    "            }\n",
    "            match_data.update(row.to_dict())\n",
    "            match_data.update(matched_row.to_dict())\n",
    "            matches.append(match_data)\n",
    "    \n",
    "    return pd.DataFrame(matches)\n"
   ]
  },
  {
   "cell_type": "code",
   "execution_count": 9,
   "metadata": {},
   "outputs": [],
   "source": [
    "merged_df = fuzzy_merge(df_fmcsa, df_google, key_left='fuzzy_column', key_right='fuzzy_column', threshold=73)"
   ]
  },
  {
   "cell_type": "code",
   "execution_count": 10,
   "metadata": {},
   "outputs": [
    {
     "data": {
      "text/html": [
       "<div>\n",
       "<style scoped>\n",
       "    .dataframe tbody tr th:only-of-type {\n",
       "        vertical-align: middle;\n",
       "    }\n",
       "\n",
       "    .dataframe tbody tr th {\n",
       "        vertical-align: top;\n",
       "    }\n",
       "\n",
       "    .dataframe thead th {\n",
       "        text-align: right;\n",
       "    }\n",
       "</style>\n",
       "<table border=\"1\" class=\"dataframe\">\n",
       "  <thead>\n",
       "    <tr style=\"text-align: right;\">\n",
       "      <th></th>\n",
       "      <th>usdot_num</th>\n",
       "      <th>google_id</th>\n",
       "    </tr>\n",
       "  </thead>\n",
       "  <tbody>\n",
       "    <tr>\n",
       "      <th>0</th>\n",
       "      <td>3227005</td>\n",
       "      <td>0x5490157655555555:0x673e5a56019f797e</td>\n",
       "    </tr>\n",
       "    <tr>\n",
       "      <th>1</th>\n",
       "      <td>3575039</td>\n",
       "      <td>0x864e99b6a000bbab:0x4f409783fb0da34f</td>\n",
       "    </tr>\n",
       "    <tr>\n",
       "      <th>2</th>\n",
       "      <td>2438489</td>\n",
       "      <td>0x88d9ba34781b0771:0xa2b03cc26eee9d6</td>\n",
       "    </tr>\n",
       "    <tr>\n",
       "      <th>3</th>\n",
       "      <td>1934023</td>\n",
       "      <td>0x5490156e47c9aeb1:0x695b4b7ae4531d49</td>\n",
       "    </tr>\n",
       "    <tr>\n",
       "      <th>4</th>\n",
       "      <td>2401554</td>\n",
       "      <td>0x864e9f0b4ad4f241:0x28134aed8a1286b1</td>\n",
       "    </tr>\n",
       "    <tr>\n",
       "      <th>5</th>\n",
       "      <td>2298043</td>\n",
       "      <td>0x864e9e6052a57db3:0x6ae7757913fe350e</td>\n",
       "    </tr>\n",
       "    <tr>\n",
       "      <th>6</th>\n",
       "      <td>1748105</td>\n",
       "      <td>0x88d9ae3866fbb4bf:0xdf69ef0c0f050d63</td>\n",
       "    </tr>\n",
       "    <tr>\n",
       "      <th>7</th>\n",
       "      <td>1475638</td>\n",
       "      <td>0x88d9ae3866fbb4bf:0xdf69ef0c0f050d63</td>\n",
       "    </tr>\n",
       "    <tr>\n",
       "      <th>8</th>\n",
       "      <td>1413859</td>\n",
       "      <td>0x864c2790527c79f9:0x5c15f6893fc59a3e</td>\n",
       "    </tr>\n",
       "    <tr>\n",
       "      <th>9</th>\n",
       "      <td>2857394</td>\n",
       "      <td>0x864e9c00a99fa229:0xeb59fd561e55c274</td>\n",
       "    </tr>\n",
       "  </tbody>\n",
       "</table>\n",
       "</div>"
      ],
      "text/plain": [
       "   usdot_num                              google_id\n",
       "0    3227005  0x5490157655555555:0x673e5a56019f797e\n",
       "1    3575039  0x864e99b6a000bbab:0x4f409783fb0da34f\n",
       "2    2438489   0x88d9ba34781b0771:0xa2b03cc26eee9d6\n",
       "3    1934023  0x5490156e47c9aeb1:0x695b4b7ae4531d49\n",
       "4    2401554  0x864e9f0b4ad4f241:0x28134aed8a1286b1\n",
       "5    2298043  0x864e9e6052a57db3:0x6ae7757913fe350e\n",
       "6    1748105  0x88d9ae3866fbb4bf:0xdf69ef0c0f050d63\n",
       "7    1475638  0x88d9ae3866fbb4bf:0xdf69ef0c0f050d63\n",
       "8    1413859  0x864c2790527c79f9:0x5c15f6893fc59a3e\n",
       "9    2857394  0x864e9c00a99fa229:0xeb59fd561e55c274"
      ]
     },
     "execution_count": 10,
     "metadata": {},
     "output_type": "execute_result"
    }
   ],
   "source": [
    "merged_df[['usdot_num','google_id']]"
   ]
  },
  {
   "cell_type": "markdown",
   "metadata": {},
   "source": [
    "merged_df"
   ]
  }
 ],
 "metadata": {
  "kernelspec": {
   "display_name": "Python 3 (ipykernel)",
   "language": "python",
   "name": "python3"
  },
  "language_info": {
   "codemirror_mode": {
    "name": "ipython",
    "version": 3
   },
   "file_extension": ".py",
   "mimetype": "text/x-python",
   "name": "python",
   "nbconvert_exporter": "python",
   "pygments_lexer": "ipython3",
   "version": "3.11.6"
  }
 },
 "nbformat": 4,
 "nbformat_minor": 4
}
